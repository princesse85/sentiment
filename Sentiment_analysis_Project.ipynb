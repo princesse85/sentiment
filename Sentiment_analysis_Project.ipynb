{
  "cells": [
    {
      "cell_type": "code",
      "execution_count": null,
      "metadata": {
        "id": "QwXURWXOCV2m"
      },
      "outputs": [],
      "source": [
        "#Importing the required Libraries\n",
        "import pandas as pd\n",
        "import re\n",
        "import nltk\n",
        "from scipy.sparse import save_npz\n",
        "from nltk.corpus import stopwords\n",
        "from nltk.tokenize import word_tokenize\n",
        "from sklearn.model_selection import train_test_split\n",
        "from sklearn.feature_extraction.text import CountVectorizer, TfidfVectorizer"
      ]
    },
    {
      "cell_type": "code",
      "execution_count": null,
      "metadata": {
        "colab": {
          "base_uri": "https://localhost:8080/"
        },
        "id": "qnqgT11OD3M1",
        "outputId": "f5fa6346-74aa-424e-d4a8-b48f003f703f"
      },
      "outputs": [
        {
          "name": "stderr",
          "output_type": "stream",
          "text": [
            "[nltk_data] Downloading package stopwords to /root/nltk_data...\n",
            "[nltk_data]   Unzipping corpora/stopwords.zip.\n",
            "[nltk_data] Downloading package punkt_tab to /root/nltk_data...\n",
            "[nltk_data]   Unzipping tokenizers/punkt_tab.zip.\n"
          ]
        },
        {
          "data": {
            "text/plain": [
              "True"
            ]
          },
          "execution_count": 2,
          "metadata": {},
          "output_type": "execute_result"
        }
      ],
      "source": [
        "# Ensure necessary NLTK resources are available\n",
        "nltk.download('stopwords')\n",
        "nltk.download('punkt_tab')"
      ]
    },
    {
      "cell_type": "code",
      "execution_count": null,
      "metadata": {
        "id": "dzNjwdpaKvkW"
      },
      "outputs": [],
      "source": [
        "# Label Mapping: \"__label__1\" -> 0 (Negative), \"__label__2\" -> 1 (Positive)\n",
        "label_mapping = {\"__label__1\": 0, \"__label__2\": 1}\n",
        "\n",
        "# Define function to clean and tokenize text efficiently\n",
        "def process_chunk(chunk):\n",
        "    # Map labels\n",
        "    chunk[\"labels\"] = chunk[\"labels\"].map(label_mapping)\n",
        "\n",
        "    # Convert text to lowercase and remove special characters\n",
        "    chunk[\"text\"] = chunk[\"text\"].astype(str).str.lower().apply(lambda x: re.sub(r'[^a-zA-Z\\s]', '', x))\n",
        "\n",
        "    # Tokenization and Stopword Removal\n",
        "    stop_words = set(stopwords.words('english'))\n",
        "    chunk[\"tokenized_text\"] = chunk[\"text\"].apply(lambda x: word_tokenize(x))\n",
        "    chunk[\"clean_text\"] = chunk[\"tokenized_text\"].apply(lambda tokens: \" \".join([word for word in tokens if word not in stop_words]))\n",
        "\n",
        "    return chunk[[\"labels\", \"clean_text\"]]\n",
        "\n",
        "# Define Chunk Size (Adjust based on system RAM)\n",
        "chunk_size = 100000  # Process 100,000 rows at a time"
      ]
    },
    {
      "cell_type": "code",
      "execution_count": null,
      "metadata": {
        "id": "euenUwl4K3Sr"
      },
      "outputs": [],
      "source": [
        "# File paths\n",
        "train_file = \"/content/drive/MyDrive/Amdari Project/e commerce reviews train.csv\"\n",
        "test_file = \"/content/drive/MyDrive/Amdari Project/e commerce reviews test.csv\"\n",
        "\n",
        "# Output files\n",
        "train_output_file = \"/content/train_cleaned.csv\"\n",
        "test_output_file = \"/content/test_cleaned.csv\""
      ]
    },
    {
      "cell_type": "code",
      "execution_count": null,
      "metadata": {
        "colab": {
          "base_uri": "https://localhost:8080/"
        },
        "id": "LuXOXu9LLSJT",
        "outputId": "aeefc6fb-63b2-4a1d-af71-0dfd474fa3d6"
      },
      "outputs": [
        {
          "name": "stdout",
          "output_type": "stream",
          "text": [
            "✅ Processed Train Chunk 1\n",
            "✅ Processed Train Chunk 2\n",
            "✅ Processed Train Chunk 3\n",
            "✅ Processed Train Chunk 4\n",
            "✅ Processed Train Chunk 5\n",
            "✅ Processed Train Chunk 6\n",
            "✅ Processed Train Chunk 7\n",
            "✅ Processed Train Chunk 8\n",
            "✅ Processed Train Chunk 9\n",
            "✅ Processed Train Chunk 10\n",
            "✅ Processed Train Chunk 11\n",
            "✅ Processed Train Chunk 12\n",
            "✅ Processed Train Chunk 13\n",
            "✅ Processed Train Chunk 14\n",
            "✅ Processed Train Chunk 15\n",
            "✅ Processed Train Chunk 16\n",
            "✅ Processed Train Chunk 17\n",
            "✅ Processed Train Chunk 18\n",
            "✅ Processed Train Chunk 19\n",
            "✅ Processed Train Chunk 20\n",
            "✅ Processed Train Chunk 21\n",
            "✅ Processed Train Chunk 22\n",
            "✅ Processed Train Chunk 23\n",
            "✅ Processed Train Chunk 24\n",
            "✅ Processed Train Chunk 25\n",
            "✅ Processed Train Chunk 26\n",
            "✅ Processed Train Chunk 27\n",
            "✅ Processed Train Chunk 28\n",
            "✅ Processed Train Chunk 29\n",
            "✅ Processed Train Chunk 30\n",
            "✅ Processed Train Chunk 31\n",
            "✅ Processed Train Chunk 32\n",
            "✅ Processed Train Chunk 33\n",
            "✅ Processed Train Chunk 34\n",
            "✅ Processed Train Chunk 35\n",
            "✅ Processed Train Chunk 36\n",
            "✅ Processed Train Chunk 37\n",
            "✅ Processed Test Chunk 1\n",
            "✅ Processed Test Chunk 2\n",
            "✅ Processed Test Chunk 3\n",
            "✅ Processed Test Chunk 4\n",
            "✅ Train and Test datasets cleaned successfully!\n"
          ]
        }
      ],
      "source": [
        "# Process Train Dataset in Chunks\n",
        "with pd.read_csv(train_file, chunksize=chunk_size) as reader:\n",
        "    for i, chunk in enumerate(reader):\n",
        "        cleaned_chunk = process_chunk(chunk)\n",
        "        cleaned_chunk.to_csv(train_output_file, mode=\"a\", header=(i == 0), index=False)\n",
        "        print(f\"✅ Processed Train Chunk {i+1}\")\n",
        "\n",
        "# Process Test Dataset in Chunks\n",
        "with pd.read_csv(test_file, chunksize=chunk_size) as reader:\n",
        "    for i, chunk in enumerate(reader):\n",
        "        cleaned_chunk = process_chunk(chunk)\n",
        "        cleaned_chunk.to_csv(test_output_file, mode=\"a\", header=(i == 0), index=False)\n",
        "        print(f\"✅ Processed Test Chunk {i+1}\")\n",
        "\n",
        "print(\"✅ Train and Test datasets cleaned successfully!\")"
      ]
    },
    {
      "cell_type": "code",
      "execution_count": null,
      "metadata": {
        "id": "qXtSAQDULWFz"
      },
      "outputs": [],
      "source": [
        "# Load cleaned datasets\n",
        "train_cleaned = pd.read_csv(\"/content/train_cleaned.csv\")\n",
        "test_cleaned = pd.read_csv(\"/content/test_cleaned.csv\")\n"
      ]
    },
    {
      "cell_type": "code",
      "execution_count": null,
      "metadata": {
        "colab": {
          "base_uri": "https://localhost:8080/"
        },
        "id": "qlNxgRSPWRqn",
        "outputId": "d8d12de7-3423-4dd5-904e-c95339f8400e"
      },
      "outputs": [
        {
          "name": "stdout",
          "output_type": "stream",
          "text": [
            "Train Dataset Overview:\n",
            "   labels                                         clean_text\n",
            "0       1  stuning even nongamer sound track beautiful pa...\n",
            "1       1  best soundtrack ever anything im reading lot r...\n",
            "2       1  amazing soundtrack favorite music time hands i...\n",
            "3       1  excellent soundtrack truly like soundtrack enj...\n",
            "4       1  remember pull jaw floor hearing youve played g...\n"
          ]
        }
      ],
      "source": [
        "print(\"Train Dataset Overview:\")\n",
        "print(train_cleaned.head())"
      ]
    },
    {
      "cell_type": "code",
      "execution_count": null,
      "metadata": {
        "colab": {
          "base_uri": "https://localhost:8080/"
        },
        "id": "7Yy9cmMAWXGF",
        "outputId": "2d2ec95f-6d80-41cc-b5d6-145c17a27492"
      },
      "outputs": [
        {
          "name": "stdout",
          "output_type": "stream",
          "text": [
            "\n",
            "Test Dataset Overview:\n",
            "   labels                                         clean_text\n",
            "0       1  great cd lovely pat one great voices generatio...\n",
            "1       1  one best game music soundtracks game didnt rea...\n",
            "2       0  batteries died within year bought charger jul ...\n",
            "3       1  works fine maha energy better check maha energ...\n",
            "4       1  great nonaudiophile reviewed quite bit combo p...\n"
          ]
        }
      ],
      "source": [
        "print(\"\\nTest Dataset Overview:\")\n",
        "print(test_cleaned.head())"
      ]
    },
    {
      "cell_type": "code",
      "execution_count": null,
      "metadata": {
        "colab": {
          "base_uri": "https://localhost:8080/"
        },
        "id": "KZrzeBZZWa6U",
        "outputId": "3257a0a7-1486-49e6-9162-1f9342bfe767"
      },
      "outputs": [
        {
          "name": "stdout",
          "output_type": "stream",
          "text": [
            "\n",
            "Train Label Distribution:\n",
            "labels\n",
            "1    1800009\n",
            "0    1800001\n",
            "Name: count, dtype: int64\n"
          ]
        }
      ],
      "source": [
        "#class distribution\n",
        "print(\"\\nTrain Label Distribution:\")\n",
        "print(train_cleaned['labels'].value_counts())"
      ]
    },
    {
      "cell_type": "code",
      "execution_count": null,
      "metadata": {
        "colab": {
          "base_uri": "https://localhost:8080/"
        },
        "id": "BdSMNgGmWeN7",
        "outputId": "48fdc87f-5279-462d-b5fb-59758a2652c3"
      },
      "outputs": [
        {
          "name": "stdout",
          "output_type": "stream",
          "text": [
            "\n",
            "Test Label Distribution:\n",
            "labels\n",
            "1    200000\n",
            "0    200000\n",
            "Name: count, dtype: int64\n"
          ]
        }
      ],
      "source": [
        "print(\"\\nTest Label Distribution:\")\n",
        "print(test_cleaned['labels'].value_counts())"
      ]
    },
    {
      "cell_type": "code",
      "execution_count": null,
      "metadata": {
        "colab": {
          "base_uri": "https://localhost:8080/"
        },
        "id": "KD3HkrpRWn45",
        "outputId": "5928932d-5b36-4bea-ef4a-35373981ec65"
      },
      "outputs": [
        {
          "name": "stdout",
          "output_type": "stream",
          "text": [
            "✅ Train and Validation datasets saved successfully!\n"
          ]
        }
      ],
      "source": [
        "# Split Train Data\n",
        "train_data, val_data = train_test_split(train_cleaned, test_size=0.2, random_state=42, stratify=train_cleaned[\"labels\"])\n",
        "\n",
        "# Save Train and Validation Data\n",
        "train_data.to_csv(\"/content/train_final.csv\", index=False)\n",
        "val_data.to_csv(\"/content/val_final.csv\", index=False)\n",
        "\n",
        "print(\"✅ Train and Validation datasets saved successfully!\")"
      ]
    },
    {
      "cell_type": "code",
      "execution_count": null,
      "metadata": {
        "id": "D3od2QKBW-xI"
      },
      "outputs": [],
      "source": [
        "# Load Train and Validation Data\n",
        "train_data = pd.read_csv(\"/content/train_final.csv\")\n",
        "val_data = pd.read_csv(\"/content/val_final.csv\")\n",
        "test_data = pd.read_csv(\"/content/test_cleaned.csv\")\n"
      ]
    },
    {
      "cell_type": "code",
      "execution_count": null,
      "metadata": {
        "id": "fDhsLh23YONI"
      },
      "outputs": [],
      "source": [
        "# Ensure there are no NaN values in the text column\n",
        "train_data[\"clean_text\"] = train_data[\"clean_text\"].fillna(\"\")\n",
        "val_data[\"clean_text\"] = val_data[\"clean_text\"].fillna(\"\")\n",
        "test_data[\"clean_text\"] = test_data[\"clean_text\"].fillna(\"\")"
      ]
    },
    {
      "cell_type": "code",
      "execution_count": null,
      "metadata": {
        "id": "RFs-ZJy0YQ3O"
      },
      "outputs": [],
      "source": [
        "# Initialize Feature Extractors\n",
        "vectorizer_bow = CountVectorizer()\n",
        "vectorizer_tfidf = TfidfVectorizer()"
      ]
    },
    {
      "cell_type": "code",
      "execution_count": null,
      "metadata": {
        "colab": {
          "base_uri": "https://localhost:8080/"
        },
        "id": "A0LLU3mYYU8Y",
        "outputId": "c191da60-6d4d-499c-ceb0-9ddc2af1e09a"
      },
      "outputs": [
        {
          "name": "stdout",
          "output_type": "stream",
          "text": [
            "✅ Feature extraction completed successfully!\n"
          ]
        }
      ],
      "source": [
        "# Fit and Transform on Train, Transform on Validation and Test\n",
        "X_train_bow = vectorizer_bow.fit_transform(train_data[\"clean_text\"])\n",
        "X_val_bow = vectorizer_bow.transform(val_data[\"clean_text\"])\n",
        "X_test_bow = vectorizer_bow.transform(test_data[\"clean_text\"])\n",
        "\n",
        "X_train_tfidf = vectorizer_tfidf.fit_transform(train_data[\"clean_text\"])\n",
        "X_val_tfidf = vectorizer_tfidf.transform(val_data[\"clean_text\"])\n",
        "X_test_tfidf = vectorizer_tfidf.transform(test_data[\"clean_text\"])\n",
        "\n",
        "print(\"✅ Feature extraction completed successfully!\")"
      ]
    },
    {
      "cell_type": "code",
      "execution_count": null,
      "metadata": {
        "id": "KJ_RoPeqaxtg"
      },
      "outputs": [],
      "source": [
        "# Save TF-IDF Matrices\n",
        "save_npz(\"/content/X_train_tfidf.npz\", X_train_tfidf)\n",
        "save_npz(\"/content/X_val_tfidf.npz\", X_val_tfidf)\n",
        "save_npz(\"/content/X_test_tfidf.npz\", X_test_tfidf)\n",
        "\n",
        "# Save Labels\n",
        "train_data[[\"labels\"]].to_csv(\"/content/y_train.csv\", index=False)\n",
        "val_data[[\"labels\"]].to_csv(\"/content/y_val.csv\", index=False)\n",
        "test_data[[\"labels\"]].to_csv(\"/content/y_test.csv\", index=False)"
      ]
    },
    {
      "cell_type": "code",
      "execution_count": null,
      "metadata": {
        "id": "Le_iOwosaNSE"
      },
      "outputs": [],
      "source": [
        "# Required Libraries\n",
        "from sklearn.linear_model import LogisticRegression\n",
        "from sklearn.ensemble import RandomForestClassifier\n",
        "from sklearn.metrics import accuracy_score, classification_report\n",
        "from scipy.sparse import load_npz"
      ]
    },
    {
      "cell_type": "code",
      "execution_count": null,
      "metadata": {
        "id": "nVXgbmfFaQcV"
      },
      "outputs": [],
      "source": [
        "# Load Features and Labels\n",
        "X_train_tfidf = load_npz(\"X_train_tfidf.npz\")\n",
        "X_val_tfidf = load_npz(\"X_val_tfidf.npz\")\n",
        "X_test_tfidf = load_npz(\"X_test_tfidf.npz\")\n",
        "\n",
        "y_train = pd.read_csv(\"y_train.csv\")[\"labels\"]\n",
        "y_val = pd.read_csv(\"y_val.csv\")[\"labels\"]\n",
        "y_test = pd.read_csv(\"y_test.csv\")[\"labels\"]"
      ]
    },
    {
      "cell_type": "code",
      "execution_count": null,
      "metadata": {
        "colab": {
          "base_uri": "https://localhost:8080/"
        },
        "id": "x6eIOhS9cawL",
        "outputId": "295ddb9e-02b9-4cc2-90fd-ef9bfcbcdcc4"
      },
      "outputs": [
        {
          "name": "stdout",
          "output_type": "stream",
          "text": [
            "Logistic Regression Accuracy: 0.9010738859058725\n",
            "              precision    recall  f1-score   support\n",
            "\n",
            "           0       0.90      0.90      0.90    360000\n",
            "           1       0.90      0.90      0.90    360002\n",
            "\n",
            "    accuracy                           0.90    720002\n",
            "   macro avg       0.90      0.90      0.90    720002\n",
            "weighted avg       0.90      0.90      0.90    720002\n",
            "\n"
          ]
        }
      ],
      "source": [
        "# Train Logistic Regression Model\n",
        "log_reg = LogisticRegression()\n",
        "log_reg.fit(X_train_tfidf, y_train)\n",
        "y_pred_log_reg = log_reg.predict(X_val_tfidf)\n",
        "print(\"Logistic Regression Accuracy:\", accuracy_score(y_val, y_pred_log_reg))\n",
        "print(classification_report(y_val, y_pred_log_reg))"
      ]
    },
    {
      "cell_type": "code",
      "execution_count": null,
      "metadata": {
        "colab": {
          "base_uri": "https://localhost:8080/"
        },
        "id": "lB_KCz0cQ6jF",
        "outputId": "7bc7966d-1da2-4513-9e15-fcfd1a9ae6a5"
      },
      "outputs": [
        {
          "name": "stdout",
          "output_type": "stream",
          "text": [
            "Test Set Accuracy: 0.9009575\n",
            "              precision    recall  f1-score   support\n",
            "\n",
            "           0       0.90      0.90      0.90    200000\n",
            "           1       0.90      0.90      0.90    200000\n",
            "\n",
            "    accuracy                           0.90    400000\n",
            "   macro avg       0.90      0.90      0.90    400000\n",
            "weighted avg       0.90      0.90      0.90    400000\n",
            "\n"
          ]
        }
      ],
      "source": [
        "model = log_reg\n",
        "\n",
        "# Predict on Test Data\n",
        "y_pred_test = model.predict(X_test_tfidf)\n",
        "\n",
        "# Evaluate Performce\n",
        "print(\"Test Set Accuracy:\", accuracy_score(y_test, y_pred_test))\n",
        "print(classification_report(y_test, y_pred_test))"
      ]
    },
    {
      "cell_type": "code",
      "execution_count": null,
      "metadata": {
        "colab": {
          "base_uri": "https://localhost:8080/"
        },
        "id": "SpwXOZjscjFm",
        "outputId": "98a81a10-b6d8-4675-cd80-e756fda59da8"
      },
      "outputs": [
        {
          "name": "stdout",
          "output_type": "stream",
          "text": [
            "Random Forest Accuracy: 0.7827978255615957\n",
            "              precision    recall  f1-score   support\n",
            "\n",
            "           0       0.81      0.74      0.77    360000\n",
            "           1       0.76      0.83      0.79    360002\n",
            "\n",
            "    accuracy                           0.78    720002\n",
            "   macro avg       0.78      0.78      0.78    720002\n",
            "weighted avg       0.78      0.78      0.78    720002\n",
            "\n"
          ]
        }
      ],
      "source": [
        "# Train Faster Random Forest Model\n",
        "rf_model = RandomForestClassifier(\n",
        "    n_estimators=100,\n",
        "    max_depth=10,\n",
        "    min_samples_split=5,\n",
        "    n_jobs=-1,\n",
        "    random_state=42\n",
        ")\n",
        "\n",
        "rf_model.fit(X_train_tfidf, y_train)\n",
        "y_pred_rf = rf_model.predict(X_val_tfidf)\n",
        "\n",
        "print(\"Random Forest Accuracy:\", accuracy_score(y_val, y_pred_rf))\n",
        "print(classification_report(y_val, y_pred_rf))"
      ]
    },
    {
      "cell_type": "code",
      "execution_count": null,
      "metadata": {
        "colab": {
          "base_uri": "https://localhost:8080/"
        },
        "id": "uRVRHgDiRJSF",
        "outputId": "484b9b05-a692-4088-ed3c-542f4ee4d0f5"
      },
      "outputs": [
        {
          "name": "stdout",
          "output_type": "stream",
          "text": [
            "Test Set Accuracy: 0.7831925\n",
            "              precision    recall  f1-score   support\n",
            "\n",
            "           0       0.81      0.74      0.77    200000\n",
            "           1       0.76      0.83      0.79    200000\n",
            "\n",
            "    accuracy                           0.78    400000\n",
            "   macro avg       0.79      0.78      0.78    400000\n",
            "weighted avg       0.79      0.78      0.78    400000\n",
            "\n"
          ]
        }
      ],
      "source": [
        "#Evaluating on test data\n",
        "model = rf_model\n",
        "y_pred_test = model.predict(X_test_tfidf)\n",
        "\n",
        "print(\"Test Set Accuracy:\", accuracy_score(y_test, y_pred_test))\n",
        "print(classification_report(y_test, y_pred_test))"
      ]
    },
    {
      "cell_type": "code",
      "execution_count": null,
      "metadata": {
        "colab": {
          "base_uri": "https://localhost:8080/"
        },
        "id": "1QSeS2XIuWg1",
        "outputId": "21f2d8a2-9058-4cf4-f995-2cf2a63c0d39"
      },
      "outputs": [
        {
          "name": "stdout",
          "output_type": "stream",
          "text": [
            "Requirement already satisfied: xgboost in /usr/local/lib/python3.11/dist-packages (2.1.4)\n",
            "Requirement already satisfied: numpy in /usr/local/lib/python3.11/dist-packages (from xgboost) (1.26.4)\n",
            "Requirement already satisfied: nvidia-nccl-cu12 in /usr/local/lib/python3.11/dist-packages (from xgboost) (2.21.5)\n",
            "Requirement already satisfied: scipy in /usr/local/lib/python3.11/dist-packages (from xgboost) (1.13.1)\n"
          ]
        }
      ],
      "source": [
        "#trainning with xgboost Model\n",
        "\n",
        "!pip install xgboost"
      ]
    },
    {
      "cell_type": "code",
      "execution_count": null,
      "metadata": {
        "id": "U9OcdtwIGf9c"
      },
      "outputs": [],
      "source": [
        "import xgboost as xgb\n",
        "from scipy.sparse import csr_matrix"
      ]
    },
    {
      "cell_type": "code",
      "execution_count": null,
      "metadata": {
        "colab": {
          "base_uri": "https://localhost:8080/"
        },
        "id": "jOyjBnC5GntD",
        "outputId": "44353dc1-489f-432d-81e7-eb5b36dc1af6"
      },
      "outputs": [
        {
          "name": "stdout",
          "output_type": "stream",
          "text": [
            "\n",
            "🔹 Processing Batch 1...\n",
            "\n",
            "🔹 Processing Batch 2...\n",
            "\n",
            "🔹 Processing Batch 3...\n",
            "\n",
            "🔹 Processing Batch 4...\n",
            "\n",
            "🔹 Processing Batch 5...\n",
            "\n",
            "🔹 Processing Batch 6...\n",
            "\n",
            "🔹 Processing Batch 7...\n",
            "\n",
            "🔹 Processing Batch 8...\n",
            "\n",
            "🔹 Processing Batch 9...\n",
            "\n",
            "🔹 Processing Batch 10...\n",
            "\n",
            "🔹 Processing Batch 11...\n",
            "\n",
            "🔹 Processing Batch 12...\n",
            "\n",
            "🔹 Processing Batch 13...\n",
            "\n",
            "🔹 Processing Batch 14...\n",
            "\n",
            "🔹 Processing Batch 15...\n",
            "\n",
            "🔹 Processing Batch 16...\n",
            "\n",
            "🔹 Processing Batch 17...\n",
            "\n",
            "🔹 Processing Batch 18...\n",
            "\n",
            "🔹 Processing Batch 19...\n",
            "\n",
            "🔹 Processing Batch 20...\n",
            "\n",
            "🔹 Processing Batch 21...\n",
            "\n",
            "🔹 Processing Batch 22...\n",
            "\n",
            "🔹 Processing Batch 23...\n",
            "\n",
            "🔹 Processing Batch 24...\n",
            "\n",
            "🔹 Processing Batch 25...\n",
            "\n",
            "🔹 Processing Batch 26...\n",
            "\n",
            "🔹 Processing Batch 27...\n",
            "\n",
            "🔹 Processing Batch 28...\n",
            "\n",
            "🔹 Processing Batch 29...\n"
          ]
        }
      ],
      "source": [
        "params = {\n",
        "    \"objective\": \"binary:logistic\",\n",
        "    \"eval_metric\": \"logloss\",\n",
        "    \"tree_method\": \"hist\",\n",
        "    \"learning_rate\": 0.1,\n",
        "    \"max_depth\": 6,\n",
        "    \"subsample\": 0.8,\n",
        "    \"colsample_bytree\": 0.8\n",
        "}\n",
        "\n",
        "# Convert Validation Data to DMatrix (For Efficient Evaluation)\n",
        "dval = xgb.DMatrix(csr_matrix(X_val_tfidf), label=y_val)\n",
        "\n",
        "# Set Batch Size\n",
        "batch_size = 100000  # Train on 100000 rows at a time\n",
        "num_boost_round = 100  # Number of boosting rounds per batch\n",
        "\n",
        "# Initialize XGBoost Model\n",
        "xgb_model = None\n",
        "\n",
        "# Train in Batches\n",
        "for i in range(0, X_train_tfidf.shape[0], batch_size):\n",
        "    print(f\"\\n🔹 Processing Batch {i//batch_size + 1}...\")\n",
        "\n",
        "    # Select batch data\n",
        "    X_batch = X_train_tfidf[i:i+batch_size]\n",
        "    y_batch = y_train.iloc[i:i+batch_size]\n",
        "\n",
        "    # Convert to DMatrix\n",
        "    dtrain = xgb.DMatrix(csr_matrix(X_batch), label=y_batch)\n",
        "\n",
        "    # Train XGBoost (Update Model on Each Batch)\n",
        "    if xgb_model is None:\n",
        "        xgb_model = xgb.train(params, dtrain, num_boost_round=num_boost_round)\n",
        "    else:\n",
        "        xgb_model = xgb.train(params, dtrain, num_boost_round=num_boost_round, xgb_model=xgb_model)"
      ]
    },
    {
      "cell_type": "code",
      "execution_count": null,
      "metadata": {
        "colab": {
          "base_uri": "https://localhost:8080/"
        },
        "id": "dyt11bChPyHG",
        "outputId": "0ea35bde-e8b1-461e-e9af-4ec000390779"
      },
      "outputs": [
        {
          "name": "stdout",
          "output_type": "stream",
          "text": [
            "XGBoost Validation Accuracy: 0.8869392029466585\n",
            "              precision    recall  f1-score   support\n",
            "\n",
            "           0       0.89      0.88      0.89    360000\n",
            "           1       0.88      0.89      0.89    360002\n",
            "\n",
            "    accuracy                           0.89    720002\n",
            "   macro avg       0.89      0.89      0.89    720002\n",
            "weighted avg       0.89      0.89      0.89    720002\n",
            "\n"
          ]
        }
      ],
      "source": [
        "y_pred_xgb = (xgb_model.predict(dval) > 0.5).astype(int)\n",
        "\n",
        "\n",
        "print(\"XGBoost Validation Accuracy:\", accuracy_score(y_val, y_pred_xgb))\n",
        "print(classification_report(y_val, y_pred_xgb))"
      ]
    },
    {
      "cell_type": "code",
      "execution_count": null,
      "metadata": {
        "colab": {
          "base_uri": "https://localhost:8080/"
        },
        "id": "VEm3MH0zQJpR",
        "outputId": "19ad1d1b-8922-462e-a7ff-30fd7fc52053"
      },
      "outputs": [
        {
          "name": "stdout",
          "output_type": "stream",
          "text": [
            "XGBoost Test Set Accuracy: 0.8866225\n",
            "              precision    recall  f1-score   support\n",
            "\n",
            "           0       0.89      0.88      0.89    200000\n",
            "           1       0.88      0.89      0.89    200000\n",
            "\n",
            "    accuracy                           0.89    400000\n",
            "   macro avg       0.89      0.89      0.89    400000\n",
            "weighted avg       0.89      0.89      0.89    400000\n",
            "\n"
          ]
        }
      ],
      "source": [
        "#Evaluating XGBoost Model on test data\n",
        "\n",
        "dtest = xgb.DMatrix(csr_matrix(X_test_tfidf), label=y_test)\n",
        "y_pred_test_xgb = (xgb_model.predict(dtest) > 0.5).astype(int)\n",
        "\n",
        "# Evaluate Performance\n",
        "print(\"XGBoost Test Set Accuracy:\", accuracy_score(y_test, y_pred_test_xgb))\n",
        "print(classification_report(y_test, y_pred_test_xgb))"
      ]
    },
    {
      "cell_type": "code",
      "execution_count": null,
      "metadata": {
        "colab": {
          "base_uri": "https://localhost:8080/"
        },
        "id": "iLB2jELUSyGt",
        "outputId": "c91e1797-5ecc-46b4-dc08-4da270ed6423"
      },
      "outputs": [
        {
          "name": "stdout",
          "output_type": "stream",
          "text": [
            "✅ All models saved successfully as `.pkl` files!\n"
          ]
        }
      ],
      "source": [
        "#saving the models for depolyment and future use\n",
        "import joblib\n",
        "\n",
        "# Save Logistic Regression Model\n",
        "joblib.dump(log_reg, \"logistic_regression_model.pkl\")\n",
        "\n",
        "# Save Random Forest Model\n",
        "joblib.dump(rf_model, \"random_forest_model.pkl\")\n",
        "\n",
        "# Save XGBoost Model as Pickle (.pkl)\n",
        "joblib.dump(xgb_model, \"xgboost_model.pkl\")\n",
        "\n",
        "print(\"✅ All models saved successfully as `.pkl` files!\")"
      ]
    },
    {
      "cell_type": "code",
      "execution_count": null,
      "metadata": {
        "colab": {
          "base_uri": "https://localhost:8080/"
        },
        "id": "WVdXKK3tYLBH",
        "outputId": "ec0afee0-d123-4867-c461-93be471df491"
      },
      "outputs": [
        {
          "name": "stdout",
          "output_type": "stream",
          "text": [
            "✅ TF-IDF Vectorizer saved successfully!\n"
          ]
        }
      ],
      "source": [
        "vectorizer_tfidf = TfidfVectorizer()\n",
        "\n",
        "# Fit on training data (ensure this is the same as model training)\n",
        "vectorizer_tfidf.fit(train_data[\"clean_text\"])\n",
        "\n",
        "# Save the vectorizer\n",
        "joblib.dump(vectorizer_tfidf, \"tfidf_vectorizer.pkl\")\n",
        "\n",
        "print(\"✅ TF-IDF Vectorizer saved successfully!\")"
      ]
    },
    {
      "cell_type": "code",
      "execution_count": null,
      "metadata": {
        "colab": {
          "base_uri": "https://localhost:8080/",
          "height": 527
        },
        "id": "cm-8t6LATTUK",
        "outputId": "cbffd490-2b27-4241-a824-4ca493f8a56e"
      },
      "outputs": [
        {
          "data": {
            "image/png": "[encoded data removed]",
            "text/plain": [
              "<Figure size 800x500 with 1 Axes>"
            ]
          },
          "metadata": {},
          "output_type": "display_data"
        }
      ],
      "source": [
        "#Visualizing each model performance\n",
        "import matplotlib.pyplot as plt\n",
        "import numpy as np\n",
        "\n",
        "# Model names\n",
        "models = [\"Logistic Regression\", \"Random Forest\", \"XGBoost\"]\n",
        "accuracies = [\n",
        "    accuracy_score(y_test, log_reg.predict(X_test_tfidf)),\n",
        "    accuracy_score(y_test, rf_model.predict(X_test_tfidf)),\n",
        "    accuracy_score(y_test, (xgb_model.predict(dtest) > 0.5).astype(int))  # XGBoost outputs probabilities\n",
        "]\n",
        "\n",
        "# Create a bar plot\n",
        "plt.figure(figsize=(8, 5))\n",
        "plt.bar(models, accuracies, color=[\"blue\", \"green\", \"red\"])\n",
        "plt.ylim(0, 1)\n",
        "plt.xlabel(\"Models\")\n",
        "plt.ylabel(\"Accuracy Score\")\n",
        "plt.title(\"Model Performance Comparison on Test Set\")\n",
        "plt.xticks(rotation=45)\n",
        "plt.show()"
      ]
    },
    {
      "cell_type": "code",
      "execution_count": null,
      "metadata": {
        "colab": {
          "base_uri": "https://localhost:8080/"
        },
        "id": "Ja75I4mVTWEO",
        "outputId": "77782684-906d-49c4-91bf-f9f65689a15c"
      },
      "outputs": [
        {
          "name": "stdout",
          "output_type": "stream",
          "text": [
            "\u001b[2K     \u001b[90m━━━━━━━━━━━━━━━━━━━━━━━━━━━━━━━━━━━━━━━━\u001b[0m \u001b[32m44.3/44.3 kB\u001b[0m \u001b[31m3.3 MB/s\u001b[0m eta \u001b[36m0:00:00\u001b[0m\n",
            "\u001b[2K   \u001b[90m━━━━━━━━━━━━━━━━━━━━━━━━━━━━━━━━━━━━━━━━\u001b[0m \u001b[32m9.6/9.6 MB\u001b[0m \u001b[31m59.4 MB/s\u001b[0m eta \u001b[36m0:00:00\u001b[0m\n",
            "\u001b[2K   \u001b[90m━━━━━━━━━━━━━━━━━━━━━━━━━━━━━━━━━━━━━━━━\u001b[0m \u001b[32m6.9/6.9 MB\u001b[0m \u001b[31m72.6 MB/s\u001b[0m eta \u001b[36m0:00:00\u001b[0m\n",
            "\u001b[2K   \u001b[90m━━━━━━━━━━━━━━━━━━━━━━━━━━━━━━━━━━━━━━━━\u001b[0m \u001b[32m79.1/79.1 kB\u001b[0m \u001b[31m7.0 MB/s\u001b[0m eta \u001b[36m0:00:00\u001b[0m\n",
            "\u001b[?25h"
          ]
        }
      ],
      "source": [
        "!pip install streamlit -q"
      ]
    },
    {
      "cell_type": "code",
      "execution_count": null,
      "metadata": {
        "colab": {
          "base_uri": "https://localhost:8080/"
        },
        "id": "uYHZHvKFUHF9",
        "outputId": "64b4bf57-e764-447c-efe3-270cb5265889"
      },
      "outputs": [
        {
          "name": "stdout",
          "output_type": "stream",
          "text": [
            "Writing app.py\n"
          ]
        }
      ],
      "source": [
        "%%writefile app.py\n",
        "\n",
        "import os\n",
        "import streamlit as st\n",
        "import joblib\n",
        "import pandas as pd\n",
        "\n",
        "st.set_page_config(page_title=\"Sentiment Analysis\", page_icon=\"💬\", layout=\"wide\")\n",
        "\n",
        "# Check if required files exist before loading\n",
        "if not os.path.exists(\"logistic_regression_model.pkl\") or not os.path.exists(\"tfidf_vectorizer.pkl\"):\n",
        "    st.error(\"🚨 Missing model or vectorizer file! Ensure `logistic_regression_model.pkl` and `tfidf_vectorizer.pkl` exist.\")\n",
        "    st.stop()  # Stop execution if files are missing\n",
        "\n",
        "@st.cache_resource\n",
        "def load_model():\n",
        "    return joblib.load(\"logistic_regression_model.pkl\")\n",
        "\n",
        "@st.cache_resource\n",
        "def load_vectorizer():\n",
        "    return joblib.load(\"tfidf_vectorizer.pkl\")\n",
        "\n",
        "# Load Model & Vectorizer\n",
        "model = load_model()\n",
        "vectorizer = load_vectorizer()\n",
        "\n",
        "# Add a Beautiful Header\n",
        "st.markdown(\n",
        "    \"\"\"\n",
        "    <div style=\"text-align: center;\">\n",
        "        <h1 style=\"color:#FFA500;\">📝 Customer Sentiment Analysis</h1>\n",
        "        <h4 style=\"color:#666;\">Analyze customer reviews with AI-powered sentiment detection.</h4>\n",
        "    </div>\n",
        "    \"\"\",\n",
        "    unsafe_allow_html=True,\n",
        ")\n",
        "\n",
        "# Sidebar with App Information\n",
        "st.sidebar.image(\"https://cdn-icons-png.flaticon.com/512/3771/3771518.png\", width=100)\n",
        "st.sidebar.title(\"📊 Sentiment Analysis App\")\n",
        "st.sidebar.markdown(\n",
        "    \"\"\"\n",
        "    **Analyze Customer Feedback with AI**\n",
        "\n",
        "    - 📝 Paste a customer review\n",
        "    - 🚀 Click 'Analyze Sentiment'\n",
        "    - 🔥 Get instant sentiment results!\n",
        "\n",
        "    **Best for:**\n",
        "    ✅ Businesses & Marketing Teams\n",
        "    ✅ Customer Service Analytics\n",
        "    ✅ Product & Service Reviews\n",
        "\n",
        "    ---\n",
        "    \"\"\",\n",
        "    unsafe_allow_html=True,\n",
        ")\n",
        "\n",
        "# Example Reviews for Quick Testing\n",
        "example_reviews = [\n",
        "    \"I absolutely love this product! It's amazing. 😊\",\n",
        "    \"Terrible experience. Waste of money! 😡\",\n",
        "    \"The service was okay, not great but not bad either.\",\n",
        "    \"This is my favorite brand! The quality is top-notch. 💖\",\n",
        "    \"I had a really bad experience with this company. Never again!\"\n",
        "]\n",
        "\n",
        "selected_example = st.sidebar.selectbox(\"🔍 Try an Example Review\", [\"Type your own...\"] + example_reviews)\n",
        "\n",
        "# User Input Section\n",
        "st.markdown(\"<h3 style='color:#FFA500;'>✍️ Enter a Customer Review:</h3>\", unsafe_allow_html=True)\n",
        "if selected_example != \"Type your own...\":\n",
        "    user_input = st.text_area(\"Your Review\", selected_example, height=120)\n",
        "else:\n",
        "    user_input = st.text_area(\"Your Review\", \"\", height=120)\n",
        "\n",
        "# Sentiment Analysis Button\n",
        "if st.button(\"🚀 Analyze Sentiment\"):\n",
        "    if user_input.strip():\n",
        "        # Transform input text\n",
        "        input_vector = vectorizer.transform([user_input])\n",
        "\n",
        "        # Predict sentiment\n",
        "        prediction_prob = model.predict_proba(input_vector)[0]  # Get probability scores\n",
        "        prediction = model.predict(input_vector)[0]\n",
        "        sentiment = \"😊 Positive\" if prediction == 1 else \"😡 Negative\"\n",
        "        confidence = max(prediction_prob) * 100  # Convert to percentage\n",
        "\n",
        "        # Display Sentiment Result\n",
        "        st.markdown(\n",
        "            f\"\"\"\n",
        "            <div style=\"text-align: center;\">\n",
        "                <h2 style=\"color: {'#28a745' if prediction == 1 else '#dc3545'};\">\n",
        "                    {sentiment}\n",
        "                </h2>\n",
        "                <h4>Confidence: {confidence:.2f}%</h4>\n",
        "            </div>\n",
        "            \"\"\",\n",
        "            unsafe_allow_html=True,\n",
        "        )\n",
        "\n",
        "    else:\n",
        "        st.warning(\"⚠️ Please enter a review before analyzing!\")\n",
        "\n",
        "# Footer\n",
        "st.markdown(\n",
        "    \"\"\"\n",
        "    <hr>\n",
        "    <div style=\"text-align: center; font-size: 14px;\">\n",
        "        Built with ❤️ using Streamlit | AI-Powered Sentiment Analysis 🚀\n",
        "    </div>\n",
        "    \"\"\",\n",
        "    unsafe_allow_html=True,\n",
        ")\n"
      ]
    },
    {
      "cell_type": "code",
      "execution_count": null,
      "metadata": {
        "colab": {
          "base_uri": "https://localhost:8080/"
        },
        "id": "24PsCr5NVlyg",
        "outputId": "78f46650-129b-47c7-e099-bd3207032c05"
      },
      "outputs": [
        {
          "name": "stdout",
          "output_type": "stream",
          "text": [
            "34.86.200.86\n"
          ]
        }
      ],
      "source": [
        "!wget -q -O - ipv4.icanhazip.com"
      ]
    },
    {
      "cell_type": "code",
      "execution_count": null,
      "metadata": {
        "colab": {
          "base_uri": "https://localhost:8080/"
        },
        "id": "EyAScb2-VqBI",
        "outputId": "80d4f9e6-cfa6-4317-f6d2-8fa0b67cf5a5"
      },
      "outputs": [
        {
          "name": "stdout",
          "output_type": "stream",
          "text": [
            "\n",
            "Collecting usage statistics. To deactivate, set browser.gatherUsageStats to false.\n",
            "\u001b[0m\n",
            "\u001b[1G\u001b[0K⠙\u001b[1G\u001b[0K⠹\u001b[1G\u001b[0K⠸\u001b[1G\u001b[0K⠼\u001b[0m\n",
            "\u001b[34m\u001b[1m  You can now view your Streamlit app in your browser.\u001b[0m\n",
            "\u001b[0m\n",
            "\u001b[34m  Local URL: \u001b[0m\u001b[1mhttp://localhost:8501\u001b[0m\n",
            "\u001b[34m  Network URL: \u001b[0m\u001b[1mhttp://172.28.0.12:8501\u001b[0m\n",
            "\u001b[34m  External URL: \u001b[0m\u001b[1mhttp://34.86.200.86:8501\u001b[0m\n",
            "\u001b[0m\n",
            "\u001b[1G\u001b[0K⠴\u001b[1G\u001b[0K⠦\u001b[1G\u001b[0K⠧\u001b[1G\u001b[0K⠇\u001b[1G\u001b[0K⠏\u001b[1G\u001b[0K⠋\u001b[1G\u001b[0K⠙\u001b[1G\u001b[0K⠹\u001b[1G\u001b[0Kyour url is: https://thick-cooks-pull.loca.lt\n",
            "2025-02-17 09:32:07.332 Uncaught exception GET /_stcore/stream (127.0.0.1)\n",
            "HTTPServerRequest(protocol='http', host='thick-cooks-pull.loca.lt', method='GET', uri='/_stcore/stream', version='HTTP/1.1', remote_ip='127.0.0.1')\n",
            "Traceback (most recent call last):\n",
            "  File \"/usr/local/lib/python3.11/dist-packages/tornado/websocket.py\", line 938, in _accept_connection\n",
            "    open_result = handler.open(*handler.open_args, **handler.open_kwargs)\n",
            "                  ^^^^^^^^^^^^^^^^^^^^^^^^^^^^^^^^^^^^^^^^^^^^^^^^^^^^^^^\n",
            "  File \"/usr/local/lib/python3.11/dist-packages/streamlit/web/server/browser_websocket_handler.py\", line 176, in open\n",
            "    self._session_id = self._runtime.connect_session(\n",
            "                       ^^^^^^^^^^^^^^^^^^^^^^^^^^^^^^\n",
            "  File \"/usr/local/lib/python3.11/dist-packages/streamlit/runtime/runtime.py\", line 397, in connect_session\n",
            "    session_id = self._session_mgr.connect_session(\n",
            "                 ^^^^^^^^^^^^^^^^^^^^^^^^^^^^^^^^^^\n",
            "  File \"/usr/local/lib/python3.11/dist-packages/streamlit/runtime/websocket_session_manager.py\", line 99, in connect_session\n",
            "    session = AppSession(\n",
            "              ^^^^^^^^^^^\n",
            "  File \"/usr/local/lib/python3.11/dist-packages/streamlit/runtime/app_session.py\", line 133, in __init__\n",
            "    self._pages_manager = PagesManager(\n",
            "                          ^^^^^^^^^^^^^\n",
            "  File \"/usr/local/lib/python3.11/dist-packages/streamlit/runtime/pages_manager.py\", line 235, in __init__\n",
            "    self.pages_strategy = PagesManager.DefaultStrategy(self, **kwargs)\n",
            "                          ^^^^^^^^^^^^^^^^^^^^^^^^^^^^^^^^^^^^^^^^^^^^\n",
            "  File \"/usr/local/lib/python3.11/dist-packages/streamlit/runtime/pages_manager.py\", line 73, in __init__\n",
            "    PagesStrategyV1.watch_pages_dir(pages_manager)\n",
            "  File \"/usr/local/lib/python3.11/dist-packages/streamlit/runtime/pages_manager.py\", line 61, in watch_pages_dir\n",
            "    watch_dir(\n",
            "  File \"/usr/local/lib/python3.11/dist-packages/streamlit/watcher/path_watcher.py\", line 155, in watch_dir\n",
            "    return _watch_path(\n",
            "           ^^^^^^^^^^^^\n",
            "  File \"/usr/local/lib/python3.11/dist-packages/streamlit/watcher/path_watcher.py\", line 126, in _watch_path\n",
            "    watcher_class(\n",
            "  File \"/usr/local/lib/python3.11/dist-packages/streamlit/watcher/event_based_path_watcher.py\", line 107, in __init__\n",
            "    path_watcher.watch_path(\n",
            "  File \"/usr/local/lib/python3.11/dist-packages/streamlit/watcher/event_based_path_watcher.py\", line 185, in watch_path\n",
            "    folder_handler.watch = self._observer.schedule(\n",
            "                           ^^^^^^^^^^^^^^^^^^^^^^^^\n",
            "  File \"/usr/local/lib/python3.11/dist-packages/watchdog/observers/api.py\", line 312, in schedule\n",
            "    emitter.start()\n",
            "  File \"/usr/local/lib/python3.11/dist-packages/watchdog/utils/__init__.py\", line 75, in start\n",
            "    self.on_thread_start()\n",
            "  File \"/usr/local/lib/python3.11/dist-packages/watchdog/observers/inotify.py\", line 119, in on_thread_start\n",
            "    self._inotify = InotifyBuffer(path, recursive=self.watch.is_recursive, event_mask=event_mask)\n",
            "                    ^^^^^^^^^^^^^^^^^^^^^^^^^^^^^^^^^^^^^^^^^^^^^^^^^^^^^^^^^^^^^^^^^^^^^^^^^^^^^\n",
            "  File \"/usr/local/lib/python3.11/dist-packages/watchdog/observers/inotify_buffer.py\", line 30, in __init__\n",
            "    self._inotify = Inotify(path, recursive=recursive, event_mask=event_mask)\n",
            "                    ^^^^^^^^^^^^^^^^^^^^^^^^^^^^^^^^^^^^^^^^^^^^^^^^^^^^^^^^^\n",
            "  File \"/usr/local/lib/python3.11/dist-packages/watchdog/observers/inotify_c.py\", line 185, in __init__\n",
            "    self._add_dir_watch(path, event_mask, recursive=recursive)\n",
            "  File \"/usr/local/lib/python3.11/dist-packages/watchdog/observers/inotify_c.py\", line 411, in _add_dir_watch\n",
            "    self._add_watch(full_path, mask)\n",
            "  File \"/usr/local/lib/python3.11/dist-packages/watchdog/observers/inotify_c.py\", line 424, in _add_watch\n",
            "    Inotify._raise_error()\n",
            "  File \"/usr/local/lib/python3.11/dist-packages/watchdog/observers/inotify_c.py\", line 441, in _raise_error\n",
            "    raise OSError(err, os.strerror(err))\n",
            "FileNotFoundError: [Errno 2] No such file or directory\n",
            "Exception ignored in: <function AppSession.__del__ at 0x7f9e28074b80>\n",
            "Traceback (most recent call last):\n",
            "  File \"/usr/local/lib/python3.11/dist-packages/streamlit/runtime/app_session.py\", line 174, in __del__\n",
            "    self.shutdown()\n",
            "  File \"/usr/local/lib/python3.11/dist-packages/streamlit/runtime/app_session.py\", line 240, in shutdown\n",
            "    if self._state != AppSessionState.SHUTDOWN_REQUESTED:\n",
            "       ^^^^^^^^^^^\n",
            "AttributeError: 'AppSession' object has no attribute '_state'\n",
            "\u001b[34m  Stopping...\u001b[0m\n",
            "^C\n"
          ]
        }
      ],
      "source": [
        "!streamlit run app.py & npx localtunnel --port 8501"
      ]
    },
    {
      "cell_type": "code",
      "execution_count": null,
      "metadata": {
        "id": "98ukTYhjQRu6"
      },
      "outputs": [],
      "source": [
        "!git config --global user.name \"boiBASH\"\n",
        "!git config --global user.email \"obashirudeen772@stu.ui.edu.ng\""
      ]
    },
    {
      "cell_type": "code",
      "execution_count": null,
      "metadata": {
        "colab": {
          "base_uri": "https://localhost:8080/"
        },
        "id": "q-Th8XRARk4b",
        "outputId": "37d26231-d812-4180-d7a4-7ce6d8f0661e"
      },
      "outputs": [
        {
          "name": "stdout",
          "output_type": "stream",
          "text": [
            "{\n",
            "  \"id\": 934110406,\n",
            "  \"node_id\": \"R_kgDON61kxg\",\n",
            "  \"name\": \"sentiment-analysis-app\",\n",
            "  \"full_name\": \"boiBASH/sentiment-analysis-app\",\n",
            "  \"private\": false,\n",
            "  \"owner\": {\n",
            "    \"login\": \"boiBASH\",\n",
            "    \"id\": 67709237,\n",
            "    \"node_id\": \"MDQ6VXNlcjY3NzA5MjM3\",\n",
            "    \"avatar_url\": \"https://avatars.githubusercontent.com/u/67709237?v=4\",\n",
            "    \"gravatar_id\": \"\",\n",
            "    \"url\": \"https://api.github.com/users/boiBASH\",\n",
            "    \"html_url\": \"https://github.com/boiBASH\",\n",
            "    \"followers_url\": \"https://api.github.com/users/boiBASH/followers\",\n",
            "    \"following_url\": \"https://api.github.com/users/boiBASH/following{/other_user}\",\n",
            "    \"gists_url\": \"https://api.github.com/users/boiBASH/gists{/gist_id}\",\n",
            "    \"starred_url\": \"https://api.github.com/users/boiBASH/starred{/owner}{/repo}\",\n",
            "    \"subscriptions_url\": \"https://api.github.com/users/boiBASH/subscriptions\",\n",
            "    \"organizations_url\": \"https://api.github.com/users/boiBASH/orgs\",\n",
            "    \"repos_url\": \"https://api.github.com/users/boiBASH/repos\",\n",
            "    \"events_url\": \"https://api.github.com/users/boiBASH/events{/privacy}\",\n",
            "    \"received_events_url\": \"https://api.github.com/users/boiBASH/received_events\",\n",
            "    \"type\": \"User\",\n",
            "    \"user_view_type\": \"public\",\n",
            "    \"site_admin\": false\n",
            "  },\n",
            "  \"html_url\": \"https://github.com/boiBASH/sentiment-analysis-app\",\n",
            "  \"description\": null,\n",
            "  \"fork\": false,\n",
            "  \"url\": \"https://api.github.com/repos/boiBASH/sentiment-analysis-app\",\n",
            "  \"forks_url\": \"https://api.github.com/repos/boiBASH/sentiment-analysis-app/forks\",\n",
            "  \"keys_url\": \"https://api.github.com/repos/boiBASH/sentiment-analysis-app/keys{/key_id}\",\n",
            "  \"collaborators_url\": \"https://api.github.com/repos/boiBASH/sentiment-analysis-app/collaborators{/collaborator}\",\n",
            "  \"teams_url\": \"https://api.github.com/repos/boiBASH/sentiment-analysis-app/teams\",\n",
            "  \"hooks_url\": \"https://api.github.com/repos/boiBASH/sentiment-analysis-app/hooks\",\n",
            "  \"issue_events_url\": \"https://api.github.com/repos/boiBASH/sentiment-analysis-app/issues/events{/number}\",\n",
            "  \"events_url\": \"https://api.github.com/repos/boiBASH/sentiment-analysis-app/events\",\n",
            "  \"assignees_url\": \"https://api.github.com/repos/boiBASH/sentiment-analysis-app/assignees{/user}\",\n",
            "  \"branches_url\": \"https://api.github.com/repos/boiBASH/sentiment-analysis-app/branches{/branch}\",\n",
            "  \"tags_url\": \"https://api.github.com/repos/boiBASH/sentiment-analysis-app/tags\",\n",
            "  \"blobs_url\": \"https://api.github.com/repos/boiBASH/sentiment-analysis-app/git/blobs{/sha}\",\n",
            "  \"git_tags_url\": \"https://api.github.com/repos/boiBASH/sentiment-analysis-app/git/tags{/sha}\",\n",
            "  \"git_refs_url\": \"https://api.github.com/repos/boiBASH/sentiment-analysis-app/git/refs{/sha}\",\n",
            "  \"trees_url\": \"https://api.github.com/repos/boiBASH/sentiment-analysis-app/git/trees{/sha}\",\n",
            "  \"statuses_url\": \"https://api.github.com/repos/boiBASH/sentiment-analysis-app/statuses/{sha}\",\n",
            "  \"languages_url\": \"https://api.github.com/repos/boiBASH/sentiment-analysis-app/languages\",\n",
            "  \"stargazers_url\": \"https://api.github.com/repos/boiBASH/sentiment-analysis-app/stargazers\",\n",
            "  \"contributors_url\": \"https://api.github.com/repos/boiBASH/sentiment-analysis-app/contributors\",\n",
            "  \"subscribers_url\": \"https://api.github.com/repos/boiBASH/sentiment-analysis-app/subscribers\",\n",
            "  \"subscription_url\": \"https://api.github.com/repos/boiBASH/sentiment-analysis-app/subscription\",\n",
            "  \"commits_url\": \"https://api.github.com/repos/boiBASH/sentiment-analysis-app/commits{/sha}\",\n",
            "  \"git_commits_url\": \"https://api.github.com/repos/boiBASH/sentiment-analysis-app/git/commits{/sha}\",\n",
            "  \"comments_url\": \"https://api.github.com/repos/boiBASH/sentiment-analysis-app/comments{/number}\",\n",
            "  \"issue_comment_url\": \"https://api.github.com/repos/boiBASH/sentiment-analysis-app/issues/comments{/number}\",\n",
            "  \"contents_url\": \"https://api.github.com/repos/boiBASH/sentiment-analysis-app/contents/{+path}\",\n",
            "  \"compare_url\": \"https://api.github.com/repos/boiBASH/sentiment-analysis-app/compare/{base}...{head}\",\n",
            "  \"merges_url\": \"https://api.github.com/repos/boiBASH/sentiment-analysis-app/merges\",\n",
            "  \"archive_url\": \"https://api.github.com/repos/boiBASH/sentiment-analysis-app/{archive_format}{/ref}\",\n",
            "  \"downloads_url\": \"https://api.github.com/repos/boiBASH/sentiment-analysis-app/downloads\",\n",
            "  \"issues_url\": \"https://api.github.com/repos/boiBASH/sentiment-analysis-app/issues{/number}\",\n",
            "  \"pulls_url\": \"https://api.github.com/repos/boiBASH/sentiment-analysis-app/pulls{/number}\",\n",
            "  \"milestones_url\": \"https://api.github.com/repos/boiBASH/sentiment-analysis-app/milestones{/number}\",\n",
            "  \"notifications_url\": \"https://api.github.com/repos/boiBASH/sentiment-analysis-app/notifications{?since,all,participating}\",\n",
            "  \"labels_url\": \"https://api.github.com/repos/boiBASH/sentiment-analysis-app/labels{/name}\",\n",
            "  \"releases_url\": \"https://api.github.com/repos/boiBASH/sentiment-analysis-app/releases{/id}\",\n",
            "  \"deployments_url\": \"https://api.github.com/repos/boiBASH/sentiment-analysis-app/deployments\",\n",
            "  \"created_at\": \"2025-02-17T09:43:05Z\",\n",
            "  \"updated_at\": \"2025-02-17T09:43:06Z\",\n",
            "  \"pushed_at\": \"2025-02-17T09:43:06Z\",\n",
            "  \"git_url\": \"git://github.com/boiBASH/sentiment-analysis-app.git\",\n",
            "  \"ssh_url\": \"git@github.com:boiBASH/sentiment-analysis-app.git\",\n",
            "  \"clone_url\": \"https://github.com/boiBASH/sentiment-analysis-app.git\",\n",
            "  \"svn_url\": \"https://github.com/boiBASH/sentiment-analysis-app\",\n",
            "  \"homepage\": null,\n",
            "  \"size\": 0,\n",
            "  \"stargazers_count\": 0,\n",
            "  \"watchers_count\": 0,\n",
            "  \"language\": null,\n",
            "  \"has_issues\": true,\n",
            "  \"has_projects\": true,\n",
            "  \"has_downloads\": true,\n",
            "  \"has_wiki\": true,\n",
            "  \"has_pages\": false,\n",
            "  \"has_discussions\": false,\n",
            "  \"forks_count\": 0,\n",
            "  \"mirror_url\": null,\n",
            "  \"archived\": false,\n",
            "  \"disabled\": false,\n",
            "  \"open_issues_count\": 0,\n",
            "  \"license\": null,\n",
            "  \"allow_forking\": true,\n",
            "  \"is_template\": false,\n",
            "  \"web_commit_signoff_required\": false,\n",
            "  \"topics\": [\n",
            "\n",
            "  ],\n",
            "  \"visibility\": \"public\",\n",
            "  \"forks\": 0,\n",
            "  \"open_issues\": 0,\n",
            "  \"watchers\": 0,\n",
            "  \"default_branch\": \"main\",\n",
            "  \"permissions\": {\n",
            "    \"admin\": true,\n",
            "    \"maintain\": true,\n",
            "    \"push\": true,\n",
            "    \"triage\": true,\n",
            "    \"pull\": true\n",
            "  },\n",
            "  \"allow_squash_merge\": true,\n",
            "  \"allow_merge_commit\": true,\n",
            "  \"allow_rebase_merge\": true,\n",
            "  \"allow_auto_merge\": false,\n",
            "  \"delete_branch_on_merge\": false,\n",
            "  \"allow_update_branch\": false,\n",
            "  \"use_squash_pr_title_as_default\": false,\n",
            "  \"squash_merge_commit_message\": \"COMMIT_MESSAGES\",\n",
            "  \"squash_merge_commit_title\": \"COMMIT_OR_PR_TITLE\",\n",
            "  \"merge_commit_message\": \"PR_TITLE\",\n",
            "  \"merge_commit_title\": \"MERGE_MESSAGE\",\n",
            "  \"network_count\": 0,\n",
            "  \"subscribers_count\": 0\n",
            "}\n"
          ]
        }
      ],
      "source": [
        "!curl -u \"boiBASH:add token\" https://api.github.com/user/repos -d '{\"name\":\"sentiment-analysis-app\"}'\n"
      ]
    },
    {
      "cell_type": "code",
      "execution_count": null,
      "metadata": {
        "colab": {
          "base_uri": "https://localhost:8080/"
        },
        "id": "2O4L9-BcSrER",
        "outputId": "d3f7797a-74e0-4663-bd01-f442868cadec"
      },
      "outputs": [
        {
          "name": "stdout",
          "output_type": "stream",
          "text": [
            "\u001b[33mhint: Using 'master' as the name for the initial branch. This default branch name\u001b[m\n",
            "\u001b[33mhint: is subject to change. To configure the initial branch name to use in all\u001b[m\n",
            "\u001b[33mhint: of your new repositories, which will suppress this warning, call:\u001b[m\n",
            "\u001b[33mhint: \u001b[m\n",
            "\u001b[33mhint: \tgit config --global init.defaultBranch <name>\u001b[m\n",
            "\u001b[33mhint: \u001b[m\n",
            "\u001b[33mhint: Names commonly chosen instead of 'master' are 'main', 'trunk' and\u001b[m\n",
            "\u001b[33mhint: 'development'. The just-created branch can be renamed via this command:\u001b[m\n",
            "\u001b[33mhint: \u001b[m\n",
            "\u001b[33mhint: \tgit branch -m <name>\u001b[m\n",
            "Initialized empty Git repository in /content/.git/\n"
          ]
        }
      ],
      "source": [
        "import os\n",
        "\n",
        "# Set your project directory (same location as your files)\n",
        "project_dir = \"/content\"\n",
        "\n",
        "# Move into the directory\n",
        "os.chdir(project_dir)\n",
        "\n",
        "# Initialize Git\n",
        "!git init"
      ]
    },
    {
      "cell_type": "code",
      "execution_count": null,
      "metadata": {
        "id": "yW0sXklPSx6B"
      },
      "outputs": [],
      "source": [
        "!git remote add origin https://boiBASH:add token@github.com/boiBASH/sentiment-analysis-app.git\n"
      ]
    },
    {
      "cell_type": "code",
      "execution_count": null,
      "metadata": {
        "colab": {
          "base_uri": "https://localhost:8080/"
        },
        "id": "WOQDLCtiS8NS",
        "outputId": "de40ced9-f0b8-4687-a6d3-b5ecc560ead5"
      },
      "outputs": [
        {
          "name": "stdout",
          "output_type": "stream",
          "text": [
            "/content\n",
            "total 3.4G\n",
            "-rw-r--r-- 1 root root 3.5K Feb 17 09:31 app.py\n",
            "drwx------ 7 root root 4.0K Feb 17 06:21 drive\n",
            "-rw-r--r-- 1 root root  15M Feb 17 09:09 logistic_regression_model.pkl\n",
            "-rw-r--r-- 1 root root 1.8M Feb 17 09:09 random_forest_model.pkl\n",
            "drwxr-xr-x 1 root root 4.0K Feb 13 14:19 sample_data\n",
            "-rw-r--r-- 1 root root 106M Feb 17 06:45 test_cleaned.csv\n",
            "-rw-r--r-- 1 root root  47M Feb 17 09:12 tfidf_vectorizer.pkl\n",
            "-rw-r--r-- 1 root root 948M Feb 17 06:43 train_cleaned.csv\n",
            "-rw-r--r-- 1 root root 758M Feb 17 06:46 train_final.csv\n",
            "-rw-r--r-- 1 root root 190M Feb 17 06:47 val_final.csv\n",
            "-rw-r--r-- 1 root root 3.3M Feb 17 09:09 xgboost_model.pkl\n",
            "-rw-r--r-- 1 root root 129M Feb 17 06:54 X_test_tfidf.npz\n",
            "-rw-r--r-- 1 root root 950M Feb 17 06:54 X_train_tfidf.npz\n",
            "-rw-r--r-- 1 root root 233M Feb 17 06:54 X_val_tfidf.npz\n",
            "-rw-r--r-- 1 root root 782K Feb 17 06:55 y_test.csv\n",
            "-rw-r--r-- 1 root root 5.5M Feb 17 06:55 y_train.csv\n",
            "-rw-r--r-- 1 root root 1.4M Feb 17 06:55 y_val.csv\n"
          ]
        }
      ],
      "source": [
        "!pwd\n",
        "!ls -lh"
      ]
    },
    {
      "cell_type": "code",
      "execution_count": null,
      "metadata": {
        "colab": {
          "base_uri": "https://localhost:8080/"
        },
        "id": "stsJCqiPURXL",
        "outputId": "989a97d2-0e7d-43ca-bf8c-7f6ba2f39a81"
      },
      "outputs": [
        {
          "name": "stdout",
          "output_type": "stream",
          "text": [
            "/content\n"
          ]
        }
      ],
      "source": [
        "%cd /content"
      ]
    },
    {
      "cell_type": "code",
      "execution_count": null,
      "metadata": {
        "id": "4NwOIOBbUY_r"
      },
      "outputs": [],
      "source": [
        "!echo \"drive/\\n*.gform\" > .gitignore"
      ]
    },
    {
      "cell_type": "code",
      "execution_count": null,
      "metadata": {
        "colab": {
          "base_uri": "https://localhost:8080/"
        },
        "id": "Lu0C60QUUblT",
        "outputId": "c5c0c15e-fd53-4c37-e00a-400ad62d5449"
      },
      "outputs": [
        {
          "name": "stdout",
          "output_type": "stream",
          "text": [
            "Reinitialized existing Git repository in /content/.git/\n"
          ]
        }
      ],
      "source": [
        "!git init\n",
        "!git config --global user.name \"boiBASH\"\n",
        "!git config --global user.email \"obashirudeen772@stu.ui.edu.ng\""
      ]
    },
    {
      "cell_type": "code",
      "execution_count": null,
      "metadata": {
        "id": "8KIN3Gq2UfKj"
      },
      "outputs": [],
      "source": [
        "!git remote remove origin\n"
      ]
    },
    {
      "cell_type": "code",
      "execution_count": null,
      "metadata": {
        "id": "BnnmQFmmU0Dt"
      },
      "outputs": [],
      "source": [
        "!git remote add origin https://boiBASH:add token@github.com/boiBASH/sentiment-analysis-app.git\n"
      ]
    },
    {
      "cell_type": "code",
      "execution_count": null,
      "metadata": {
        "id": "sy3pB_hLU5ky"
      },
      "outputs": [],
      "source": [
        "!git add app.py X_test_tfidf.npz X_train_tfidf.npz X_val_tfidf.npz logistic_regression_model.pkl random_forest_model.pkl test_cleaned.csv tfidf_vectorizer.pkl train_cleaned.csv train_final.csv val_final.csv xgboost_model.pkl y_test.csv y_train.csv y_val.csv\n"
      ]
    },
    {
      "cell_type": "code",
      "execution_count": null,
      "metadata": {
        "colab": {
          "base_uri": "https://localhost:8080/"
        },
        "id": "_zeRzoUkWuov",
        "outputId": "01f5fc20-ea32-4945-c67b-f39553f919bb"
      },
      "outputs": [
        {
          "name": "stdout",
          "output_type": "stream",
          "text": [
            "[master (root-commit) 6968049] Initial commit - Sentiment Analysis Project Files\n",
            " 15 files changed, 5120130 insertions(+)\n",
            " create mode 100644 X_test_tfidf.npz\n",
            " create mode 100644 X_train_tfidf.npz\n",
            " create mode 100644 X_val_tfidf.npz\n",
            " create mode 100644 app.py\n",
            " create mode 100644 logistic_regression_model.pkl\n",
            " create mode 100644 random_forest_model.pkl\n",
            " create mode 100644 test_cleaned.csv\n",
            " create mode 100644 tfidf_vectorizer.pkl\n",
            " create mode 100644 train_cleaned.csv\n",
            " create mode 100644 train_final.csv\n",
            " create mode 100644 val_final.csv\n",
            " create mode 100644 xgboost_model.pkl\n",
            " create mode 100644 y_test.csv\n",
            " create mode 100644 y_train.csv\n",
            " create mode 100644 y_val.csv\n"
          ]
        }
      ],
      "source": [
        "!git commit -m \"Initial commit - Sentiment Analysis Project Files\""
      ]
    },
    {
      "cell_type": "code",
      "execution_count": null,
      "metadata": {
        "colab": {
          "base_uri": "https://localhost:8080/"
        },
        "id": "Ahxb_fFfWxHu",
        "outputId": "fd50547e-3ddc-410e-a806-8ba93950a558"
      },
      "outputs": [
        {
          "name": "stdout",
          "output_type": "stream",
          "text": [
            "Updated git hooks.\n",
            "Git LFS initialized.\n"
          ]
        }
      ],
      "source": [
        "!git lfs install"
      ]
    },
    {
      "cell_type": "code",
      "execution_count": null,
      "metadata": {
        "colab": {
          "base_uri": "https://localhost:8080/"
        },
        "id": "F6AtMlyRXy5M",
        "outputId": "3b3220f1-65ac-4e97-d022-2152626ae140"
      },
      "outputs": [
        {
          "name": "stdout",
          "output_type": "stream",
          "text": [
            "Tracking \"*.pkl\"\n",
            "Tracking \"*.npz\"\n"
          ]
        }
      ],
      "source": [
        "!git lfs track \"*.pkl\" \"*.npz\""
      ]
    },
    {
      "cell_type": "code",
      "execution_count": null,
      "metadata": {
        "id": "gOemeEpbX6Pq"
      },
      "outputs": [],
      "source": [
        "!echo \"*.npz\" >> .gitignore\n"
      ]
    },
    {
      "cell_type": "code",
      "execution_count": null,
      "metadata": {
        "id": "LxLo43ipX-sm"
      },
      "outputs": [],
      "source": [
        "!git add .gitignore\n",
        "!git add app.py logistic_regression_model.pkl random_forest_model.pkl test_cleaned.csv tfidf_vectorizer.pkl train_cleaned.csv train_final.csv val_final.csv xgboost_model.pkl y_test.csv y_train.csv y_val.csv\n"
      ]
    },
    {
      "cell_type": "code",
      "execution_count": null,
      "metadata": {
        "colab": {
          "base_uri": "https://localhost:8080/"
        },
        "id": "W05Gm85jaCXI",
        "outputId": "670e729a-940d-4f2f-ba90-fac97c3fbc01"
      },
      "outputs": [
        {
          "name": "stdout",
          "output_type": "stream",
          "text": [
            "[main 8995173] Pushed all files except .npz files\n",
            " 9 files changed, 4 insertions(+)\n",
            " create mode 100644 .gitattributes\n",
            " create mode 100644 .gitignore\n",
            " rewrite X_test_tfidf.npz (99%)\n",
            " rewrite X_train_tfidf.npz (99%)\n",
            " rewrite X_val_tfidf.npz (99%)\n",
            " rewrite logistic_regression_model.pkl (99%)\n",
            " rewrite random_forest_model.pkl (99%)\n",
            " rewrite tfidf_vectorizer.pkl (99%)\n",
            " rewrite xgboost_model.pkl (99%)\n"
          ]
        }
      ],
      "source": [
        "!git commit -m \"Pushed all files except .npz files\"\n"
      ]
    },
    {
      "cell_type": "code",
      "execution_count": null,
      "metadata": {
        "colab": {
          "base_uri": "https://localhost:8080/"
        },
        "id": "HUDI2TFWaGBi",
        "outputId": "9a296aab-6d7e-441e-9769-6d9632d04d1d"
      },
      "outputs": [
        {
          "name": "stdout",
          "output_type": "stream",
          "text": [
            "Uploading LFS objects: 100% (7/7), 1.4 GB | 110 MB/s, done.\n",
            "Enumerating objects: 28, done.\n",
            "Counting objects: 100% (28/28), done.\n",
            "Delta compression using up to 2 threads\n",
            "Compressing objects: 100% (24/24), done.\n",
            "error: RPC failed; HTTP 400 curl 22 The requested URL returned error: 400\n",
            "send-pack: unexpected disconnect while reading sideband packet\n",
            "Writing objects: 100% (28/28), 2.05 GiB | 23.41 MiB/s, done.\n",
            "Total 28 (delta 2), reused 3 (delta 0), pack-reused 0\n",
            "fatal: the remote end hung up unexpectedly\n",
            "Everything up-to-date\n"
          ]
        }
      ],
      "source": [
        "!git push -u origin main"
      ]
    }
  ],
  "metadata": {
    "colab": {
      "provenance": []
    },
    "kernelspec": {
      "display_name": "Python 3",
      "name": "python3"
    },
    "language_info": {
      "name": "python"
    }
  },
  "nbformat": 4,
  "nbformat_minor": 0
}
